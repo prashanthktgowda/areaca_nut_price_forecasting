{
 "cells": [
  {
   "cell_type": "code",
   "execution_count": 1,
   "id": "45001667-fc0f-4c2a-8514-d55cb304a089",
   "metadata": {},
   "outputs": [
    {
     "name": "stderr",
     "output_type": "stream",
     "text": [
      "C:\\Users\\hp\\AppData\\Local\\Temp\\ipykernel_14228\\1631483557.py:7: UserWarning: Could not infer format, so each element will be parsed individually, falling back to `dateutil`. To ensure parsing is consistent and as-expected, please specify a format.\n",
      "  data['Price Date'] = pd.to_datetime(data['Price Date'], errors='coerce')\n"
     ]
    },
    {
     "name": "stdout",
     "output_type": "stream",
     "text": [
      "Training features:\n",
      "   Year  Month  Variety_Bette  Variety_Bilegotu  Variety_Chali  Variety_Churu  \\\n",
      "0  2011      1          False             False          False          False   \n",
      "1  2012     11          False             False          False          False   \n",
      "2  2017      2          False             False          False          False   \n",
      "3  2020     11          False             False          False          False   \n",
      "4  2014      2          False             False          False          False   \n",
      "\n",
      "   Variety_Cqca  Variety_EDI  Variety_Gorabalu  Variety_Kempugotu  ...  \\\n",
      "0         False        False             False              False  ...   \n",
      "1         False        False             False              False  ...   \n",
      "2         False        False             False              False  ...   \n",
      "3         False        False             False              False  ...   \n",
      "4         False        False             False              False  ...   \n",
      "\n",
      "   Variety_Other  Variety_Pudi  Variety_Pylone  Variety_Rashi  Variety_Red  \\\n",
      "0          False         False           False          False        False   \n",
      "1          False         False           False          False        False   \n",
      "2          False         False           False          False        False   \n",
      "3          False         False           False          False        False   \n",
      "4          False         False           False          False        False   \n",
      "\n",
      "   Variety_Ripe  Variety_Saraku  Variety_Sippegotu  Variety_White  Variety_api  \n",
      "0         False           False              False          False         True  \n",
      "1         False           False              False          False         True  \n",
      "2         False           False              False          False         True  \n",
      "3         False           False              False          False         True  \n",
      "4         False           False              False          False         True  \n",
      "\n",
      "[5 rows x 22 columns]\n"
     ]
    }
   ],
   "source": [
    "import pandas as pd\n",
    "\n",
    "# Load the dataset\n",
    "data = pd.read_csv('arecanut_price.csv')\n",
    "\n",
    "# Ensure 'Price Date' is in datetime format\n",
    "data['Price Date'] = pd.to_datetime(data['Price Date'], errors='coerce')\n",
    "\n",
    "# Drop rows with missing values\n",
    "data = data.dropna(subset=['Price Date', 'Modal Price (Rs./Quintal)', 'Variety'])\n",
    "\n",
    "# Extract features for training\n",
    "data['Year'] = data['Price Date'].dt.year\n",
    "data['Month'] = data['Price Date'].dt.month\n",
    "\n",
    "# One-hot encode the 'Variety' column\n",
    "data_encoded = pd.get_dummies(data, columns=['Variety'], drop_first=False)\n",
    "\n",
    "# Select relevant columns for training\n",
    "features = ['Year', 'Month'] + [col for col in data_encoded.columns if 'Variety_' in col]\n",
    "target = 'Modal Price (Rs./Quintal)'\n",
    "X = data_encoded[features]\n",
    "y = data_encoded[target]\n",
    "\n",
    "print(\"Training features:\")\n",
    "print(X.head())\n"
   ]
  },
  {
   "cell_type": "code",
   "execution_count": 7,
   "id": "097c2fe5-aca9-44b8-b52c-f51ae841cd67",
   "metadata": {},
   "outputs": [
    {
     "name": "stdout",
     "output_type": "stream",
     "text": [
      "Mean Squared Error: 3642530.33\n"
     ]
    }
   ],
   "source": [
    "from sklearn.model_selection import train_test_split\n",
    "from sklearn.ensemble import RandomForestRegressor\n",
    "from sklearn.metrics import mean_squared_error\n",
    "\n",
    "# Split data into training and testing sets\n",
    "X_train, X_test, y_train, y_test = train_test_split(X, y, test_size=0.2, random_state=42)\n",
    "\n",
    "# Train the model\n",
    "model = RandomForestRegressor(n_estimators=100, random_state=42)\n",
    "model.fit(X_train, y_train)\n",
    "\n",
    "# Evaluate the model\n",
    "y_pred = model.predict(X_test)\n",
    "mse = mean_squared_error(y_test, y_pred)\n",
    "print(f\"Mean Squared Error: {mse:.2f}\")\n"
   ]
  },
  {
   "cell_type": "code",
   "execution_count": null,
   "id": "aaa44638-dc89-47d2-80e3-1d4d5835df69",
   "metadata": {},
   "outputs": [
    {
     "name": "stdout",
     "output_type": "stream",
     "text": [
      "Fitting 5 folds for each of 324 candidates, totalling 1620 fits\n"
     ]
    }
   ],
   "source": [
    "from sklearn.model_selection import GridSearchCV\n",
    "from sklearn.ensemble import RandomForestRegressor\n",
    "\n",
    "# Define the model\n",
    "model = RandomForestRegressor(random_state=42)\n",
    "\n",
    "# Define hyperparameter grid\n",
    "param_grid = {\n",
    "    'n_estimators': [100, 200, 300],\n",
    "    'max_depth': [None, 10, 20, 30],\n",
    "    'min_samples_split': [2, 5, 10],\n",
    "    'min_samples_leaf': [1, 2, 4],\n",
    "    'max_features': ['auto', 'sqrt', 'log2']\n",
    "}\n",
    "\n",
    "# Perform GridSearchCV\n",
    "grid_search = GridSearchCV(estimator=model, param_grid=param_grid, cv=5, n_jobs=-1, verbose=2)\n",
    "grid_search.fit(X_train, y_train)\n",
    "\n",
    "# Best parameters and model\n",
    "print(\"Best hyperparameters:\", grid_search.best_params_)\n",
    "best_model = grid_search.best_estimator_\n",
    "\n",
    "# Evaluate the tuned model\n",
    "y_pred = best_model.predict(X_test)\n",
    "mse = mean_squared_error(y_test, y_pred)\n",
    "print(f\"Tuned Mean Squared Error: {mse:.2f}\")\n"
   ]
  },
  {
   "cell_type": "code",
   "execution_count": null,
   "id": "e83e0c83-9eef-4729-93b4-7f54c6065ec1",
   "metadata": {},
   "outputs": [],
   "source": [
    "pip install xgboost\n"
   ]
  },
  {
   "cell_type": "code",
   "execution_count": null,
   "id": "cc2d7260-3306-490c-aa48-43f2a8d54ca5",
   "metadata": {},
   "outputs": [],
   "source": [
    "//Other\n",
    "import xgboost as xgb\n",
    "from sklearn.metrics import mean_squared_error\n",
    "\n",
    "# Define the model\n",
    "xg_model = xgb.XGBRegressor(objective='reg:squarederror', n_estimators=200, learning_rate=0.05)\n",
    "\n",
    "# Train the model\n",
    "xg_model.fit(X_train, y_train)\n",
    "\n",
    "# Make predictions\n",
    "y_pred_xgb = xg_model.predict(X_test)\n",
    "\n",
    "# Evaluate the model\n",
    "mse_xgb = mean_squared_error(y_test, y_pred_xgb)\n",
    "print(f\"XGBoost Mean Squared Error: {mse_xgb:.2f}\")\n"
   ]
  },
  {
   "cell_type": "code",
   "execution_count": null,
   "id": "f8b75361-4e27-4007-a903-188abfba1ced",
   "metadata": {},
   "outputs": [],
   "source": [
    "//Other\n",
    "from sklearn.preprocessing import StandardScaler\n",
    "\n",
    "# Scale the features\n",
    "scaler = StandardScaler()\n",
    "X_scaled = scaler.fit_transform(X)\n",
    "\n",
    "# Split the scaled data\n",
    "X_train_scaled, X_test_scaled, y_train, y_test = train_test_split(X_scaled, y, test_size=0.2, random_state=42)\n",
    "\n",
    "# Train your model with the scaled data\n",
    "model.fit(X_train_scaled, y_train)\n",
    "\n",
    "# Evaluate on scaled test data\n",
    "y_pred_scaled = model.predict(X_test_scaled)\n",
    "mse_scaled = mean_squared_error(y_test, y_pred_scaled)\n",
    "print(f\"Mean Squared Error after scaling: {mse_scaled:.2f}\")\n"
   ]
  },
  {
   "cell_type": "code",
   "execution_count": 4,
   "id": "1815b9e4-2910-4695-ba60-400e5fa5104e",
   "metadata": {},
   "outputs": [
    {
     "name": "stdin",
     "output_type": "stream",
     "text": [
      "Select a variety from ['api', 'Bette', 'Chali', 'EDI', 'Gorabalu', 'Kempugotu', 'Other', 'Pudi', 'Rashi', 'Red', 'Sippegotu', 'Bilegotu', 'White', 'Cqca', 'Pylone', 'Ripe', 'New Variety', 'Saraku', 'Churu', 'Kole']:  Rashi\n",
      "Enter the year for prediction (e.g., 2025):  2024\n",
      "Enter the month for prediction (1-12):  11\n"
     ]
    },
    {
     "name": "stdout",
     "output_type": "stream",
     "text": [
      "Predicted price for Rashi in 2024-11: Rs. 47902.81 per quintal.\n"
     ]
    }
   ],
   "source": [
    "# User input for variety and prediction date\n",
    "selected_variety = input(f\"Select a variety from {data['Variety'].unique().tolist()}: \")\n",
    "year = int(input(\"Enter the year for prediction (e.g., 2025): \"))\n",
    "month = int(input(\"Enter the month for prediction (1-12): \"))\n",
    "\n",
    "# Create feature vector for prediction\n",
    "input_features = pd.DataFrame([[year, month]], columns=['Year', 'Month'])\n",
    "\n",
    "# Add variety columns with default 0 values\n",
    "for col in [col for col in X.columns if 'Variety_' in col]:\n",
    "    input_features[col] = 0\n",
    "\n",
    "# Set the selected variety to 1 in the feature vector\n",
    "variety_column = f\"Variety_{selected_variety}\"\n",
    "if variety_column in input_features.columns:\n",
    "    input_features[variety_column] = 1\n",
    "else:\n",
    "    print(f\"Error: Selected variety '{selected_variety}' is not in the training data.\")\n",
    "    exit()\n",
    "\n",
    "# Predict the price\n",
    "predicted_price = model.predict(input_features)[0]\n",
    "print(f\"Predicted price for {selected_variety} in {year}-{month}: Rs. {predicted_price:.2f} per quintal.\")\n"
   ]
  },
  {
   "cell_type": "code",
   "execution_count": 6,
   "id": "9c0a2b95-ac5f-4171-bbc0-4d9b73a2ece9",
   "metadata": {},
   "outputs": [
    {
     "name": "stdin",
     "output_type": "stream",
     "text": [
      "Select a variety from ['api', 'Bette', 'Chali', 'EDI', 'Gorabalu', 'Kempugotu', 'Other', 'Pudi', 'Rashi', 'Red', 'Sippegotu', 'Bilegotu', 'White', 'Cqca', 'Pylone', 'Ripe', 'New Variety', 'Saraku', 'Churu', 'Kole']:  bette\n",
      "Enter the year for prediction (e.g., 2025):  2024\n",
      "Enter the month for prediction (1-12):  11\n"
     ]
    },
    {
     "name": "stdout",
     "output_type": "stream",
     "text": [
      "Error: Selected variety 'bette' is not in the training data.\n",
      "Predicted price for bette in 2024-11: Rs. 29898.67 per quintal.\n"
     ]
    }
   ],
   "source": [
    "# User input for variety and prediction date\n",
    "selected_variety = input(f\"Select a variety from {data['Variety'].unique().tolist()}: \")\n",
    "year = int(input(\"Enter the year for prediction (e.g., 2025): \"))\n",
    "month = int(input(\"Enter the month for prediction (1-12): \"))\n",
    "\n",
    "# Create feature vector for prediction\n",
    "input_features = pd.DataFrame([[year, month]], columns=['Year', 'Month'])\n",
    "\n",
    "# Add variety columns with default 0 values\n",
    "for col in [col for col in X.columns if 'Variety_' in col]:\n",
    "    input_features[col] = 0\n",
    "\n",
    "# Set the selected variety to 1 in the feature vector\n",
    "variety_column = f\"Variety_{selected_variety}\"\n",
    "if variety_column in input_features.columns:\n",
    "    input_features[variety_column] = 1\n",
    "else:\n",
    "    print(f\"Error: Selected variety '{selected_variety}' is not in the training data.\")\n",
    "    exit()\n",
    "\n",
    "# Predict the price\n",
    "predicted_price = model.predict(input_features)[0]\n",
    "print(f\"Predicted price for {selected_variety} in {year}-{month}: Rs. {predicted_price:.2f} per quintal.\")\n"
   ]
  },
  {
   "cell_type": "code",
   "execution_count": null,
   "id": "5a83cebd-17bf-4840-91be-52b109e879e2",
   "metadata": {},
   "outputs": [],
   "source": []
  }
 ],
 "metadata": {
  "kernelspec": {
   "display_name": "Python 3 (ipykernel)",
   "language": "python",
   "name": "python3"
  },
  "language_info": {
   "codemirror_mode": {
    "name": "ipython",
    "version": 3
   },
   "file_extension": ".py",
   "mimetype": "text/x-python",
   "name": "python",
   "nbconvert_exporter": "python",
   "pygments_lexer": "ipython3",
   "version": "3.12.4"
  }
 },
 "nbformat": 4,
 "nbformat_minor": 5
}
